{
  "nbformat": 4,
  "nbformat_minor": 0,
  "metadata": {
    "colab": {
      "name": "Revisão Python.ipynb",
      "provenance": [],
      "collapsed_sections": [
        "ThkSf3TS29nl"
      ],
      "toc_visible": true
    },
    "kernelspec": {
      "name": "python3",
      "display_name": "Python 3"
    },
    "language_info": {
      "name": "python"
    }
  },
  "cells": [
    {
      "cell_type": "markdown",
      "source": [
        "# Input/Output\n",
        "https://docs.python.org/3/tutorial/inputoutput.html"
      ],
      "metadata": {
        "id": "5DEvLUyVEM6K"
      }
    },
    {
      "cell_type": "code",
      "source": [
        "print(\"Ola, mundo\")"
      ],
      "metadata": {
        "colab": {
          "base_uri": "https://localhost:8080/"
        },
        "id": "wHcF3_P-FjQp",
        "outputId": "934b2ae1-446f-4849-bd74-e53675d1f1fc"
      },
      "execution_count": null,
      "outputs": [
        {
          "output_type": "stream",
          "name": "stdout",
          "text": [
            "Ola, mundo\n"
          ]
        }
      ]
    },
    {
      "cell_type": "code",
      "source": [
        "valor = input(\"Digite alguma coisa: \")\n",
        "\n",
        "print(valor)\n",
        "valor"
      ],
      "metadata": {
        "colab": {
          "base_uri": "https://localhost:8080/",
          "height": 70
        },
        "id": "niZA64VfGJbY",
        "outputId": "5cc58678-be8c-4500-d346-c420ee7bf58b"
      },
      "execution_count": null,
      "outputs": [
        {
          "output_type": "stream",
          "name": "stdout",
          "text": [
            "Digite alguma coisa: sdfsadf\n",
            "sdfsadf\n"
          ]
        },
        {
          "output_type": "execute_result",
          "data": {
            "application/vnd.google.colaboratory.intrinsic+json": {
              "type": "string"
            },
            "text/plain": [
              "'sdfsadf'"
            ]
          },
          "metadata": {},
          "execution_count": 6
        }
      ]
    },
    {
      "cell_type": "markdown",
      "source": [
        "# Operadores\n",
        "https://www.w3schools.com/python/python_operators.asp"
      ],
      "metadata": {
        "id": "sLTnMFqKG28J"
      }
    },
    {
      "cell_type": "markdown",
      "source": [
        "## Operadores aritméticos"
      ],
      "metadata": {
        "id": "QIzKDa1BG7lx"
      }
    },
    {
      "cell_type": "code",
      "source": [
        "10 + 5"
      ],
      "metadata": {
        "colab": {
          "base_uri": "https://localhost:8080/"
        },
        "id": "TwE7eI7LHR2B",
        "outputId": "94485c57-e442-453e-c0d1-53e2bfc0489f"
      },
      "execution_count": null,
      "outputs": [
        {
          "output_type": "execute_result",
          "data": {
            "text/plain": [
              "15"
            ]
          },
          "metadata": {},
          "execution_count": 9
        }
      ]
    },
    {
      "cell_type": "code",
      "source": [
        "10 -5"
      ],
      "metadata": {
        "colab": {
          "base_uri": "https://localhost:8080/"
        },
        "id": "FZY21RSuHeSR",
        "outputId": "3055de89-4435-472d-e705-0490466dcbbb"
      },
      "execution_count": null,
      "outputs": [
        {
          "output_type": "execute_result",
          "data": {
            "text/plain": [
              "5"
            ]
          },
          "metadata": {},
          "execution_count": 10
        }
      ]
    },
    {
      "cell_type": "code",
      "source": [
        "10 * 5"
      ],
      "metadata": {
        "colab": {
          "base_uri": "https://localhost:8080/"
        },
        "id": "GXEovqVJHfdR",
        "outputId": "90eda19c-2ffa-41b9-85b4-6303b1ed5bcb"
      },
      "execution_count": null,
      "outputs": [
        {
          "output_type": "execute_result",
          "data": {
            "text/plain": [
              "50"
            ]
          },
          "metadata": {},
          "execution_count": 11
        }
      ]
    },
    {
      "cell_type": "code",
      "source": [
        "10 / 5"
      ],
      "metadata": {
        "colab": {
          "base_uri": "https://localhost:8080/"
        },
        "id": "y6WVbxEwHgpy",
        "outputId": "0cdf3f3d-7358-4d57-de7b-221fdd83d41a"
      },
      "execution_count": null,
      "outputs": [
        {
          "output_type": "execute_result",
          "data": {
            "text/plain": [
              "2.0"
            ]
          },
          "metadata": {},
          "execution_count": 12
        }
      ]
    },
    {
      "cell_type": "code",
      "source": [
        "2 ** 2"
      ],
      "metadata": {
        "colab": {
          "base_uri": "https://localhost:8080/"
        },
        "id": "t4hufzhiHiRR",
        "outputId": "c68287dd-0cfa-4049-f7ed-4dec461becb0"
      },
      "execution_count": null,
      "outputs": [
        {
          "output_type": "execute_result",
          "data": {
            "text/plain": [
              "4"
            ]
          },
          "metadata": {},
          "execution_count": 13
        }
      ]
    },
    {
      "cell_type": "code",
      "source": [
        "3//2"
      ],
      "metadata": {
        "colab": {
          "base_uri": "https://localhost:8080/"
        },
        "id": "ljxLc4RxHj6R",
        "outputId": "00b2aea9-f3eb-4567-bd55-95723067ab8c"
      },
      "execution_count": null,
      "outputs": [
        {
          "output_type": "execute_result",
          "data": {
            "text/plain": [
              "1"
            ]
          },
          "metadata": {},
          "execution_count": 14
        }
      ]
    },
    {
      "cell_type": "code",
      "source": [
        "3 % 2"
      ],
      "metadata": {
        "colab": {
          "base_uri": "https://localhost:8080/"
        },
        "id": "ReF_nOsrHmxU",
        "outputId": "9ba8d094-2ea1-431e-a43e-81d4f9967ea8"
      },
      "execution_count": null,
      "outputs": [
        {
          "output_type": "execute_result",
          "data": {
            "text/plain": [
              "1"
            ]
          },
          "metadata": {},
          "execution_count": 15
        }
      ]
    },
    {
      "cell_type": "markdown",
      "source": [
        "## Operadores de atribuição"
      ],
      "metadata": {
        "id": "hb3UEQTTHvmV"
      }
    },
    {
      "cell_type": "code",
      "source": [
        "x = 5\n",
        "x += 10 # x = x + 10\n",
        "x -= 2\n",
        "x *= 2\n",
        "x /= 2\n",
        "x **= 2\n",
        "x //= 4\n",
        "x %= 2\n",
        "x"
      ],
      "metadata": {
        "colab": {
          "base_uri": "https://localhost:8080/"
        },
        "id": "fpQcAp-sICDS",
        "outputId": "e061d8c0-5f61-47e5-a89f-756fd633fa40"
      },
      "execution_count": null,
      "outputs": [
        {
          "output_type": "execute_result",
          "data": {
            "text/plain": [
              "0.0"
            ]
          },
          "metadata": {},
          "execution_count": 18
        }
      ]
    },
    {
      "cell_type": "markdown",
      "source": [
        "### Conversão de variáveis"
      ],
      "metadata": {
        "id": "uXuNe7bmJKrt"
      }
    },
    {
      "cell_type": "code",
      "source": [
        "x = 5\n",
        "x = 5/2 # Conversão implícita de variável\n",
        "x = float(1) # Conversão explícita\n",
        "type(x)"
      ],
      "metadata": {
        "colab": {
          "base_uri": "https://localhost:8080/"
        },
        "id": "CFLaszJZJM9J",
        "outputId": "1c29faec-2967-4573-cb37-df0a0a22f5c8"
      },
      "execution_count": null,
      "outputs": [
        {
          "output_type": "execute_result",
          "data": {
            "text/plain": [
              "1.0"
            ]
          },
          "metadata": {},
          "execution_count": 25
        }
      ]
    },
    {
      "cell_type": "markdown",
      "source": [
        "## Operações de comparação"
      ],
      "metadata": {
        "id": "0eIqBYO9KTA3"
      }
    },
    {
      "cell_type": "code",
      "source": [
        "# ==\n",
        "# >, <\n",
        "# >=, <=\n",
        "# !=\n",
        "x = 9\n",
        "y = 12\n",
        "x > y"
      ],
      "metadata": {
        "colab": {
          "base_uri": "https://localhost:8080/"
        },
        "id": "NMjiPkvMKZyB",
        "outputId": "db7f3e0d-f77d-4980-b1ca-907555de3bf1"
      },
      "execution_count": null,
      "outputs": [
        {
          "output_type": "execute_result",
          "data": {
            "text/plain": [
              "False"
            ]
          },
          "metadata": {},
          "execution_count": 31
        }
      ]
    },
    {
      "cell_type": "markdown",
      "source": [
        "## Operadores Lógicos"
      ],
      "metadata": {
        "id": "jHu5dIGlK0EF"
      }
    },
    {
      "cell_type": "code",
      "source": [
        "# -> bool\n",
        "# and\n",
        "# or\n",
        "# not\n",
        "not (10 > 2 and 15 < 13)"
      ],
      "metadata": {
        "colab": {
          "base_uri": "https://localhost:8080/"
        },
        "id": "gkey6g4xK3U0",
        "outputId": "d73cdfee-5a96-405e-b730-178b6c9f601c"
      },
      "execution_count": null,
      "outputs": [
        {
          "output_type": "execute_result",
          "data": {
            "text/plain": [
              "True"
            ]
          },
          "metadata": {},
          "execution_count": 34
        }
      ]
    },
    {
      "cell_type": "markdown",
      "source": [
        "# Funções "
      ],
      "metadata": {
        "id": "qbzXK8PnLcLc"
      }
    },
    {
      "cell_type": "code",
      "source": [
        "def verifica_paridade(numero): # Procedimento \n",
        "  if numero % 2 == 0:\n",
        "    return True\n",
        "  return False"
      ],
      "metadata": {
        "id": "hlRMvwMVLkk1"
      },
      "execution_count": null,
      "outputs": []
    },
    {
      "cell_type": "markdown",
      "source": [
        "# Estrutura condicional"
      ],
      "metadata": {
        "id": "fOOAWLS_Nwfo"
      }
    },
    {
      "cell_type": "code",
      "source": [
        "x = int( input(\"Digite um número: \") )\n",
        "if verifica_paridade(x): # Simples\n",
        "  print(\"É par\")"
      ],
      "metadata": {
        "colab": {
          "base_uri": "https://localhost:8080/"
        },
        "id": "2VlnLH0hN1cn",
        "outputId": "48aa3634-ea96-4275-8820-c73d9a1fa158"
      },
      "execution_count": null,
      "outputs": [
        {
          "output_type": "stream",
          "name": "stdout",
          "text": [
            "Digite um número: 2\n",
            "É par\n"
          ]
        }
      ]
    },
    {
      "cell_type": "code",
      "source": [
        "x = 30\n",
        "y = 20\n",
        "if x > y: # Condicional composta\n",
        "  print(\"X é maior que Y\")\n",
        "else:\n",
        "  print(\"X é menor ou igual a Y\")"
      ],
      "metadata": {
        "colab": {
          "base_uri": "https://localhost:8080/"
        },
        "id": "iTAQlmVvPAqn",
        "outputId": "e672fb9e-6f18-429f-aeba-bbe8eb88fb61"
      },
      "execution_count": null,
      "outputs": [
        {
          "output_type": "stream",
          "name": "stdout",
          "text": [
            "X é maior que Y\n"
          ]
        }
      ]
    },
    {
      "cell_type": "code",
      "source": [
        "x = 10\n",
        "y = 20\n",
        "if x > y: # Condicional aninhada\n",
        "  print(\"X é maior que Y\")\n",
        "elif x == y:\n",
        "  print(\"X é igual a Y\")\n",
        "else:\n",
        "  print(\"X é menor que Y\")"
      ],
      "metadata": {
        "colab": {
          "base_uri": "https://localhost:8080/"
        },
        "id": "-WGRSdtVPO74",
        "outputId": "804ccd63-d536-4c22-ab04-8f854319f586"
      },
      "execution_count": null,
      "outputs": [
        {
          "output_type": "stream",
          "name": "stdout",
          "text": [
            "X é menor que Y\n"
          ]
        }
      ]
    },
    {
      "cell_type": "markdown",
      "source": [
        "# Estrutura repetitiva while"
      ],
      "metadata": {
        "id": "-U1hu_wpP46J"
      }
    },
    {
      "cell_type": "code",
      "source": [
        "x = 0\n",
        "while x <= 10:\n",
        "  print(x)\n",
        "  x += 1"
      ],
      "metadata": {
        "colab": {
          "base_uri": "https://localhost:8080/"
        },
        "id": "dZl8H0sgP8bX",
        "outputId": "354d2570-826f-406c-ef06-726c7c01bddb"
      },
      "execution_count": null,
      "outputs": [
        {
          "output_type": "stream",
          "name": "stdout",
          "text": [
            "0\n",
            "1\n",
            "2\n",
            "3\n",
            "4\n",
            "5\n",
            "6\n",
            "7\n",
            "8\n",
            "9\n",
            "10\n"
          ]
        }
      ]
    },
    {
      "cell_type": "markdown",
      "source": [
        "# Strings"
      ],
      "metadata": {
        "id": "4wktwJLBQvMv"
      }
    },
    {
      "cell_type": "markdown",
      "source": [
        "## Overload de operadores"
      ],
      "metadata": {
        "id": "X_6gqElJV2lL"
      }
    },
    {
      "cell_type": "code",
      "source": [
        "\"tchau\" + \"oi\" # Soma virou concatenação\n",
        "\n",
        "\"oi\" * 10 # Multiplicação virou repetição"
      ],
      "metadata": {
        "colab": {
          "base_uri": "https://localhost:8080/",
          "height": 35
        },
        "id": "lo_70Zx9V4R6",
        "outputId": "bdff7243-7cbb-4754-97c9-de2ef2e5736e"
      },
      "execution_count": null,
      "outputs": [
        {
          "output_type": "execute_result",
          "data": {
            "application/vnd.google.colaboratory.intrinsic+json": {
              "type": "string"
            },
            "text/plain": [
              "'oioioioioioioioioioi'"
            ]
          },
          "metadata": {},
          "execution_count": 92
        }
      ]
    },
    {
      "cell_type": "markdown",
      "source": [
        "## Representando caracteres em python"
      ],
      "metadata": {
        "id": "J_MNVXCvRBmo"
      }
    },
    {
      "cell_type": "code",
      "source": [
        "ord('A')\n",
        "chr(65)"
      ],
      "metadata": {
        "colab": {
          "base_uri": "https://localhost:8080/",
          "height": 35
        },
        "id": "RlCd99s6RDmI",
        "outputId": "a5f3d0fd-1c45-4802-f022-8550a188d67b"
      },
      "execution_count": null,
      "outputs": [
        {
          "output_type": "execute_result",
          "data": {
            "application/vnd.google.colaboratory.intrinsic+json": {
              "type": "string"
            },
            "text/plain": [
              "'A'"
            ]
          },
          "metadata": {},
          "execution_count": 57
        }
      ]
    },
    {
      "cell_type": "markdown",
      "source": [
        "## Acessando caracteres dentro de uma string"
      ],
      "metadata": {
        "id": "Q2Dtn-r6RogY"
      }
    },
    {
      "cell_type": "code",
      "source": [
        "frase = \"Ola, mundo\"\n",
        "\n",
        "frase[3]\n"
      ],
      "metadata": {
        "colab": {
          "base_uri": "https://localhost:8080/",
          "height": 35
        },
        "id": "07WppWDBQ1j5",
        "outputId": "d8e16dcb-f13b-42ca-d064-a8cee60640e9"
      },
      "execution_count": null,
      "outputs": [
        {
          "output_type": "execute_result",
          "data": {
            "application/vnd.google.colaboratory.intrinsic+json": {
              "type": "string"
            },
            "text/plain": [
              "','"
            ]
          },
          "metadata": {},
          "execution_count": 60
        }
      ]
    },
    {
      "cell_type": "markdown",
      "source": [
        "## Operação de fatiamento"
      ],
      "metadata": {
        "id": "w8heZkABR7n3"
      }
    },
    {
      "cell_type": "code",
      "source": [
        "frase[0:5] # Intervalo fechado - intervalo aberto\n",
        "frase[0:10:2]\n",
        "frase[:]\n",
        "frase[::-1]"
      ],
      "metadata": {
        "colab": {
          "base_uri": "https://localhost:8080/",
          "height": 35
        },
        "id": "YFQJrA3OR-SI",
        "outputId": "e0640019-7c7f-4b1d-c2aa-69f94e87303e"
      },
      "execution_count": null,
      "outputs": [
        {
          "output_type": "execute_result",
          "data": {
            "application/vnd.google.colaboratory.intrinsic+json": {
              "type": "string"
            },
            "text/plain": [
              "'odnum ,alO'"
            ]
          },
          "metadata": {},
          "execution_count": 64
        }
      ]
    },
    {
      "cell_type": "markdown",
      "source": [
        "## Métodos de string\n",
        "https://www.w3schools.com/python/python_ref_string.asp"
      ],
      "metadata": {
        "id": "Ep-Hi339SxQY"
      }
    },
    {
      "cell_type": "code",
      "source": [
        "frase = \"oi\"\n",
        "\n",
        "frase.upper().lower() # Encadeamento de métodos"
      ],
      "metadata": {
        "colab": {
          "base_uri": "https://localhost:8080/",
          "height": 35
        },
        "id": "eQLk40RNTHTI",
        "outputId": "e036ccbf-80aa-498d-dce0-1107b5515fd6"
      },
      "execution_count": null,
      "outputs": [
        {
          "output_type": "execute_result",
          "data": {
            "application/vnd.google.colaboratory.intrinsic+json": {
              "type": "string"
            },
            "text/plain": [
              "'oi'"
            ]
          },
          "metadata": {},
          "execution_count": 66
        }
      ]
    },
    {
      "cell_type": "code",
      "source": [
        "frase_separada_virgulas = \"12,13,14,15\"\n",
        "\n",
        "frase_separada_virgulas.split(',')"
      ],
      "metadata": {
        "colab": {
          "base_uri": "https://localhost:8080/"
        },
        "id": "JGcblSfPTp3g",
        "outputId": "7837ea0b-699c-4e69-d6c1-96d242275f7b"
      },
      "execution_count": null,
      "outputs": [
        {
          "output_type": "execute_result",
          "data": {
            "text/plain": [
              "['12', '13', '14', '15']"
            ]
          },
          "metadata": {},
          "execution_count": 69
        }
      ]
    },
    {
      "cell_type": "markdown",
      "source": [
        "# Listas"
      ],
      "metadata": {
        "id": "gmvYTm-uUVxX"
      }
    },
    {
      "cell_type": "markdown",
      "source": [
        "## Overload de operadores"
      ],
      "metadata": {
        "id": "Waxh2nNzWJLT"
      }
    },
    {
      "cell_type": "code",
      "source": [
        "[1,2] + [3,4] # Concatenação\n",
        "\n",
        "[1,2] * 10 # Repetição"
      ],
      "metadata": {
        "colab": {
          "base_uri": "https://localhost:8080/"
        },
        "id": "KZSulqt0WKml",
        "outputId": "5416158b-b272-4f18-d554-42c48ad5a931"
      },
      "execution_count": null,
      "outputs": [
        {
          "output_type": "execute_result",
          "data": {
            "text/plain": [
              "[1, 2, 1, 2, 1, 2, 1, 2, 1, 2, 1, 2, 1, 2, 1, 2, 1, 2, 1, 2]"
            ]
          },
          "metadata": {},
          "execution_count": 94
        }
      ]
    },
    {
      "cell_type": "code",
      "source": [
        "l = [\"oi\", 12, 12.5, [12, 13], True, 'c']"
      ],
      "metadata": {
        "id": "50yNIM4ZUZH3"
      },
      "execution_count": null,
      "outputs": []
    },
    {
      "cell_type": "code",
      "source": [
        ""
      ],
      "metadata": {
        "id": "OA6X4G8LV0ZY"
      },
      "execution_count": null,
      "outputs": []
    },
    {
      "cell_type": "code",
      "source": [
        "l[3][0] # Indices\n",
        "l[::2] # Fatiamento"
      ],
      "metadata": {
        "colab": {
          "base_uri": "https://localhost:8080/"
        },
        "id": "WJ_I7J61UsNY",
        "outputId": "4b3d3114-fd3d-4153-cca8-2fed5027aa90"
      },
      "execution_count": null,
      "outputs": [
        {
          "output_type": "execute_result",
          "data": {
            "text/plain": [
              "['oi', 12.5, True]"
            ]
          },
          "metadata": {},
          "execution_count": 76
        }
      ]
    },
    {
      "cell_type": "markdown",
      "source": [
        "## Métodos de listas\n",
        "  https://www.w3schools.com/python/python_ref_list.asp"
      ],
      "metadata": {
        "id": "oiIKB8EdU8am"
      }
    },
    {
      "cell_type": "markdown",
      "source": [
        "### Adicionando elementos à lista"
      ],
      "metadata": {
        "id": "aY287Mf0WTY6"
      }
    },
    {
      "cell_type": "code",
      "source": [
        "l = [] # Cria lista vazia\n",
        "\n",
        "l.append(3)\n",
        "\n",
        "l"
      ],
      "metadata": {
        "colab": {
          "base_uri": "https://localhost:8080/"
        },
        "id": "ARsFA5DYWWbK",
        "outputId": "b417eb5b-fae8-44ab-90ab-4d2c4894819c"
      },
      "execution_count": null,
      "outputs": [
        {
          "output_type": "execute_result",
          "data": {
            "text/plain": [
              "[3]"
            ]
          },
          "metadata": {},
          "execution_count": 98
        }
      ]
    },
    {
      "cell_type": "code",
      "source": [
        "l.append(15)\n",
        "l.count(3)\n",
        "l"
      ],
      "metadata": {
        "colab": {
          "base_uri": "https://localhost:8080/"
        },
        "id": "WSX3s9fyWpME",
        "outputId": "47e8c170-832d-4792-db63-f9cb8f5b5fbe"
      },
      "execution_count": null,
      "outputs": [
        {
          "output_type": "execute_result",
          "data": {
            "text/plain": [
              "[3, 3, 3, 3, 3, 3, 3, 3, 15]"
            ]
          },
          "metadata": {},
          "execution_count": 106
        }
      ]
    },
    {
      "cell_type": "code",
      "source": [
        "l.pop()"
      ],
      "metadata": {
        "colab": {
          "base_uri": "https://localhost:8080/"
        },
        "id": "snU6TPohW8_V",
        "outputId": "49745dcf-3e6b-45ca-aed9-9eaf914d6e54"
      },
      "execution_count": null,
      "outputs": [
        {
          "output_type": "execute_result",
          "data": {
            "text/plain": [
              "15"
            ]
          },
          "metadata": {},
          "execution_count": 107
        }
      ]
    },
    {
      "cell_type": "code",
      "source": [
        "l"
      ],
      "metadata": {
        "colab": {
          "base_uri": "https://localhost:8080/"
        },
        "id": "ncw2Zyt2W_6V",
        "outputId": "1e61a2b5-2dc5-40b4-94e7-1de9de4544ef"
      },
      "execution_count": null,
      "outputs": [
        {
          "output_type": "execute_result",
          "data": {
            "text/plain": [
              "[3, 3, 3, 3, 3, 3, 3, 3]"
            ]
          },
          "metadata": {},
          "execution_count": 108
        }
      ]
    },
    {
      "cell_type": "code",
      "source": [
        "l = [1,2,3,4,5,6,7]\n",
        "l.pop(2)"
      ],
      "metadata": {
        "colab": {
          "base_uri": "https://localhost:8080/"
        },
        "id": "W65__YI4XBCU",
        "outputId": "5def7fb2-78ca-44fa-f02b-df0fc7f67322"
      },
      "execution_count": null,
      "outputs": [
        {
          "output_type": "execute_result",
          "data": {
            "text/plain": [
              "3"
            ]
          },
          "metadata": {},
          "execution_count": 109
        }
      ]
    },
    {
      "cell_type": "code",
      "source": [
        "l"
      ],
      "metadata": {
        "colab": {
          "base_uri": "https://localhost:8080/"
        },
        "id": "NpGBY1PCXH2V",
        "outputId": "33634e2a-6db4-4737-9369-bc5b269833e2"
      },
      "execution_count": null,
      "outputs": [
        {
          "output_type": "execute_result",
          "data": {
            "text/plain": [
              "[1, 2, 4, 5, 6, 7]"
            ]
          },
          "metadata": {},
          "execution_count": 110
        }
      ]
    },
    {
      "cell_type": "markdown",
      "source": [
        "# Laço de repetição for"
      ],
      "metadata": {
        "id": "qKrE1uPDXTrG"
      }
    },
    {
      "cell_type": "code",
      "source": [
        "for indice, iterador in enumerate(\"ola, mundo\"):\n",
        "  print(indice, iterador)"
      ],
      "metadata": {
        "colab": {
          "base_uri": "https://localhost:8080/"
        },
        "id": "OqsFzLIxXWjX",
        "outputId": "c410e005-8125-4148-fa68-6510633c7183"
      },
      "execution_count": null,
      "outputs": [
        {
          "output_type": "stream",
          "name": "stdout",
          "text": [
            "0 o\n",
            "1 l\n",
            "2 a\n",
            "3 ,\n",
            "4  \n",
            "5 m\n",
            "6 u\n",
            "7 n\n",
            "8 d\n",
            "9 o\n"
          ]
        }
      ]
    },
    {
      "cell_type": "code",
      "source": [
        "for i in range(0, 10):\n",
        "  print(i)"
      ],
      "metadata": {
        "colab": {
          "base_uri": "https://localhost:8080/"
        },
        "id": "Cr2pAhM-YIx1",
        "outputId": "15bda032-dd06-4e7b-ba8d-e38154f1c45b"
      },
      "execution_count": null,
      "outputs": [
        {
          "output_type": "stream",
          "name": "stdout",
          "text": [
            "0\n",
            "1\n",
            "2\n",
            "3\n",
            "4\n",
            "5\n",
            "6\n",
            "7\n",
            "8\n",
            "9\n"
          ]
        }
      ]
    },
    {
      "cell_type": "markdown",
      "source": [
        "# Dicionário"
      ],
      "metadata": {
        "id": "4_qGzzKpY__Y"
      }
    },
    {
      "cell_type": "code",
      "source": [
        "d = { 'oi':105 , 2:'tchau', 'oi':205}\n",
        "\n",
        "d"
      ],
      "metadata": {
        "colab": {
          "base_uri": "https://localhost:8080/"
        },
        "id": "iTtWoStkZBeh",
        "outputId": "fc9ae0ab-d932-4eb3-bfd3-9840f7a7ce2d"
      },
      "execution_count": null,
      "outputs": [
        {
          "output_type": "execute_result",
          "data": {
            "text/plain": [
              "{2: 'tchau', 'oi': 205}"
            ]
          },
          "metadata": {},
          "execution_count": 123
        }
      ]
    },
    {
      "cell_type": "code",
      "source": [
        "notas = { 10:2, 10:2, 10:3}\n",
        "\n",
        "chaves = list(notas.keys())\n",
        "\n",
        "soma = 0\n",
        "for chave in chaves:\n",
        "  peso = notas[chave]\n",
        "  soma += peso * chave\n",
        "\n",
        "soma"
      ],
      "metadata": {
        "colab": {
          "base_uri": "https://localhost:8080/"
        },
        "id": "MwXh1yzMaiDb",
        "outputId": "7830cc94-c613-4725-e0a4-03e295728397"
      },
      "execution_count": null,
      "outputs": [
        {
          "output_type": "execute_result",
          "data": {
            "text/plain": [
              "30"
            ]
          },
          "metadata": {},
          "execution_count": 131
        }
      ]
    },
    {
      "cell_type": "markdown",
      "source": [
        "## Métodos de dicionário\n",
        " https://www.w3schools.com/python/python_ref_dictionary.asp"
      ],
      "metadata": {
        "id": "8cjsk9raZkHj"
      }
    },
    {
      "cell_type": "markdown",
      "source": [
        "# Exercícios"
      ],
      "metadata": {
        "id": "ThkSf3TS29nl"
      }
    },
    {
      "cell_type": "markdown",
      "source": [
        "1) Elaborar programas que calculem e exibam as resistências equivalentes de dois resistores: \n",
        "\n",
        "Em série: \n",
        "Req=R1+R2\n",
        "Req=R1+R2\n",
        "\n",
        "Em paralelo: \n",
        "Req=R1∙R2R1+R2\n",
        "Req=R1∙R2R1+R2\n",
        "\n",
        "Onde Req é o valor da resistência equivalente e R1 e R2 são os valores das resistências. "
      ],
      "metadata": {
        "id": "FNW65tRl2_V0"
      }
    },
    {
      "cell_type": "code",
      "source": [
        "# Resolução ex 1"
      ],
      "metadata": {
        "id": "0ggcYEpOcZGI"
      },
      "execution_count": null,
      "outputs": []
    },
    {
      "cell_type": "markdown",
      "source": [
        "2) Crie uma função capaz de converter números em string."
      ],
      "metadata": {
        "id": "ADbIPoAa36sE"
      }
    },
    {
      "cell_type": "markdown",
      "source": [
        "3) Crie uma função que receba um número inteiro e retorna True se esse número for par e False se esse número for ímpar."
      ],
      "metadata": {
        "id": "UWjD5Te74eRD"
      }
    },
    {
      "cell_type": "markdown",
      "source": [
        "4) Crie uma função que recebe um número inteiro e retorna uma lista com todos os seus divisores."
      ],
      "metadata": {
        "id": "NQxKT66R4_2T"
      }
    },
    {
      "cell_type": "markdown",
      "source": [
        "5) Crie uma função que receba uma frase (string) e retorne a quantidade de vogais contida nela. Sua função deve considerar que todos os caracteres estão em minúsculo."
      ],
      "metadata": {
        "id": "THIDHAiU5NVD"
      }
    },
    {
      "cell_type": "markdown",
      "source": [
        "6) Resolva as expressões abaixo, destacando o resultado final. \n",
        "\n",
        "a) \tA = (2 >= 5) and (1 != 0) and not(6 <= 2*3) or (10 != 10) \n",
        "\n",
        "b)\tB = (5 != 2) or not (7 > 4) and (4 <= pi) \n",
        "\n",
        "c) \tC = not (True and True or not (True)) "
      ],
      "metadata": {
        "id": "_scnTQYo5bgE"
      }
    },
    {
      "cell_type": "markdown",
      "source": [
        "7) Elabore um programa que informa ao usuário se um ano digitado é bissexto ou não. Seu programa deve fazer a chamada para a função Bissexto, que recebe como parâmetro um ano e retorna um valor lógico, informando se o ano é bissexto ou não.  \n",
        "\n",
        "Sabe-se que um ano é bissexto se o ano for divisível por 400 ou; o ano for divisível por 4, mas não por 100. Em sua função, não utilize estruturas condicionais. Retorne apenas o valor da expressão lógica. "
      ],
      "metadata": {
        "id": "Fu0NmZLG3a_0"
      }
    },
    {
      "cell_type": "markdown",
      "source": [
        "8) Elabore um programa que permite ao usuário digitar o número do mês e do ano. Deve ser exibido o número de dias do referido mês. Utilize a função lógica Bissexto, desenvolvida na aula passada, para ajudar a obter o número de dias de fevereiro. "
      ],
      "metadata": {
        "id": "c58C2rjy6J1H"
      }
    },
    {
      "cell_type": "markdown",
      "source": [
        "9) Desenvolva uma função que realiza a soma, subtração, multiplicação ou divisão de dois valores segundo um terceiro valor (que representa a operação desejada). Considere que os valores serão digitados no programa principal e que serão passados via parâmetro para a função, que deverá retornar o resultado numérico, se possível. \n",
        "\n",
        "O terceiro parâmetro deve ser um dos seguintes caracteres: '+', '-', 'x', '/'. Caso nenhum desses operadores seja passado, a função deverá retornar o texto \"Operador inválido\". \n",
        "\n",
        "Caso a operação de divisão seja escolhida e o denominador seja 0, a função deverá retornar o texto \"Divisão por zero\". "
      ],
      "metadata": {
        "id": "dwxWlz9A6RZb"
      }
    },
    {
      "cell_type": "markdown",
      "source": [
        "10) Dados A, B e N, elaborar um programa para listar os N primeiros múltiplos de A inferiores a B. É necessário fazer a validação da digitação dos dados de entrada, sendo A > 0; B ³ A e N > 0. "
      ],
      "metadata": {
        "id": "3kfzbAVW6nDf"
      }
    },
    {
      "cell_type": "markdown",
      "source": [
        "11) Elabore um programa que permite a entrada de uma frase e exiba as seguintes informações: o número total de caracteres e o número total de palavras."
      ],
      "metadata": {
        "id": "gU-PlaTQ6zNz"
      }
    },
    {
      "cell_type": "markdown",
      "source": [
        "12) Elabore um programa que inverte as palavras de uma frase digitada pelo usuário. \n",
        "\n",
        "Por exemplo, se o usuário digitar “Instituto Mauá de Tecnologia”, o programa deve exibir “otutitsnI áuaM ed aigolonceT”. "
      ],
      "metadata": {
        "id": "CsgTPQeh62Fj"
      }
    },
    {
      "cell_type": "markdown",
      "source": [
        "13) Elabore um programa que deve permitir ao usuário digitar uma frase e irá exibir o caractere que apareceu mais vezes na frase, bem como essa quantidade. "
      ],
      "metadata": {
        "id": "nmhJnoF666qH"
      }
    },
    {
      "cell_type": "markdown",
      "source": [
        "14) Faça um programa que preencha uma lista com os 100 primeiros números naturais que são múltiplos de 7. Ao final, imprima essa lista na tela. "
      ],
      "metadata": {
        "id": "BmBOkPUi7CQH"
      }
    },
    {
      "cell_type": "markdown",
      "source": [
        "15) Para facilitar as compras no mercado, elabore um programa que permita a entrada dos produtos que devem ser comprados, bem como a categoria (mercearia, limpeza, congelados etc.). Seu programa deve exibir uma lista em ordem alfabética de categoria e, dentro de cada categoria, pelo nome do produto. "
      ],
      "metadata": {
        "id": "xPodE4KG7Rl5"
      }
    },
    {
      "cell_type": "markdown",
      "source": [
        "16) Para o projeto final da PAE o aplicador solicitou que sua equipe adquira alguns itens para a construção de um protótipo. Para calcular o custo do projeto, você deverá elaborar um programa que permita o cadastro de todos os N itens e, em seguida, permita que o usuário informe o nome de cada item e atualize o valor do preço. \n",
        "\n",
        "O programa é dividido em duas etapas: \n",
        "\n",
        "o programa principal deve permitir a entrada do número de itens, bem como o nome do produto e a quantidade que deve ser adquirida. Durante o cadastro, crie uma lista de produtos, formada por uma sublista que contém o nome do produto, a quantidade e o valor 0 (que representa o preço); \n",
        "\n",
        "depois de cadastrar todos os itens, o usuário deve fazer as consultas de preço aos fornecedores e irá digitar o nome de um produto para alterar seu preço.  \n",
        "\n",
        "Escreva o código da função exibirTabela que recebe como parâmetro a lista de itens. Essa função deve apresentar os dados em forma de tabela, bem como calcular e exibir o valor total que será gasto com a compra. Os dados devem ser exibidos em ordem alfabética do nome do produto. "
      ],
      "metadata": {
        "id": "QC4FXyLC7ZWL"
      }
    },
    {
      "cell_type": "markdown",
      "source": [
        "17) Elabore um programa que permita ao usuário digitar um dicionário cujas chaves representam o código de um projeto e os valores correspondem aos respectivos tempos de execução. Em seguida, o programa deve apresentar os dados em ordem crescente do código do projeto. "
      ],
      "metadata": {
        "id": "Z3qoLx8H7gf6"
      }
    },
    {
      "cell_type": "markdown",
      "source": [
        "18) Escreva um programa que permita ao usuário informar as coordenadas de disparos e calcular a pontuação obtida. Inicialmente o usuário informa as coordenadas x e y, uma a uma, e o cálculo da pontuação é dado por:  (a cada 10 unidades de distância, perde um ponto), sendo d a distância do ponto (x, y) até o centro do alvo, localizado em (0, 0). Os dados devem ser armazenados em um dicionário, sendo a chave formada pela tupla com as coordenadas (x, y) e a pontuação obtida como o respectivo valor. \n",
        "\n",
        "Após o cadastro, o programa deve percorrer o dicionário e exibir as coordenadas dos disparos que registraram pontuação máxima para o jogador (que não necessariamente deve ser 10). \n",
        "\n",
        " "
      ],
      "metadata": {
        "id": "92RGOS7k7jv6"
      }
    },
    {
      "cell_type": "markdown",
      "source": [
        "19) Para ajudar a controlar gastos, elabore um programa que permita ao usuário informar as operações que estão acontecendo em sua conta bancária. O programa deverá solicitar ao usuário o tipo de operação (D)epósito, (S)aque, (P)agamento de contas e o valor da transação. Crie um dicionário que acumula os valores dos depósitos, saques e contas pagas. \n",
        "\n",
        "Caso a operação seja (F)im, o programa deverá informar o valor restante na conta bancária. "
      ],
      "metadata": {
        "id": "8vwnsI647nAc"
      }
    }
  ]
}