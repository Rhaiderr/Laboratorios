{
  "nbformat": 4,
  "nbformat_minor": 0,
  "metadata": {
    "colab": {
      "name": "Intro_Pandas.ipynb",
      "provenance": [],
      "toc_visible": true
    },
    "kernelspec": {
      "name": "python3",
      "display_name": "Python 3"
    },
    "language_info": {
      "name": "python"
    }
  },
  "cells": [
    {
      "cell_type": "markdown",
      "metadata": {
        "id": "gBCf01ECNs7A"
      },
      "source": [
        "# Introdução ao Pandas\n",
        "\n",
        "\n",
        "A biblioteca Pandas é um módulo open source desenvolvido para Python que fornece implementações de estruturas de dados e funções para manipulação de conjuntos de dados em formato de tabela (arquivos do excel, bancos de dados, arquivos csv, etc.). Trata-se da biblioteca para manipulação e análise de dados mais utilizada dentro do ramo de ciência de dados.\n"
      ]
    },
    {
      "cell_type": "markdown",
      "metadata": {
        "id": "cr2cA7iYPyKB"
      },
      "source": [
        "# Importando a biblioteca Pandas\n",
        "\n",
        "Antes de mais nada, é necessário importar a biblioteca Pandas para poder interagir com suas funções e variáveis. Para isso, execute a célula abaixo:"
      ]
    },
    {
      "cell_type": "markdown",
      "metadata": {
        "id": "BK06herMPqro"
      },
      "source": [
        "# DataFrame e Series\n",
        "\n",
        "Assim como o numpy introduziu novas variáveis como o array e o polinômio, o Pandas também utiliza dois novos tipos de variáveis para poder interagir com dados em formato de tabela. "
      ]
    },
    {
      "cell_type": "markdown",
      "metadata": {
        "id": "fXRnH3xWQayu"
      },
      "source": [
        "## Inicializando um DataFrame\n",
        "\n",
        "Um dataframe é uma representação computacional de uma tabela e é a estrutura de dados mais utilizada no Pandas. Cada uma de suas entradas pode ser entendida como uma linha com um ou vários atributos (colunas):\n",
        "\n",
        "![image.png](https://pandas.pydata.org/docs/_images/01_table_dataframe.svg)\n",
        "\n",
        "Imagem retirada da [documentação](https://pandas.pydata.org/docs/getting_started/index.html#getting-started) do Pandas"
      ]
    },
    {
      "cell_type": "markdown",
      "metadata": {
        "id": "V9ltrXBHe6z3"
      },
      "source": [
        "### A partir de uma lista de listas\n",
        "\n",
        "Uma forma comum de representar tabelas em python é utilizando uma lista de listas com as seguintes restrições:\n",
        "1. Todas as sublistas devem ter o mesmo número de itens;\n",
        "2. Todas as sublistas devem ter os mesmos tipos de dados, na mesma ordem; e\n",
        "3. O significado de cada \"coluna\" deve ser igual entre as sublistas.\n",
        "\n",
        "A partir dessa representação de uma lista de listas, é possível criar um DataFrame.\n",
        "\n"
      ]
    },
    {
      "cell_type": "markdown",
      "metadata": {
        "id": "mHVHA5tZgRWR"
      },
      "source": [
        "Supondo que é necessário representar a seguinte tabela, que registra o número de alunos aprovados e reprovados para cada disciplina de um curso de Engenharia:\n",
        "\n",
        "|            | Aprovados | Reprovados |\n",
        "|:----------:|:---------:|:----------:|\n",
        "| Algoritmos |     65    |     35     |\n",
        "|  Cálculo I |     45    |     55     |\n",
        "\n",
        "Em Python, poderíamos fazer:\n"
      ]
    },
    {
      "cell_type": "markdown",
      "metadata": {
        "id": "YLNIW_5ihaG-"
      },
      "source": [
        "Para adicionar os títulos das colunas, podemos utilizar o parâmetro columns da função pd.DataFrame."
      ]
    },
    {
      "cell_type": "markdown",
      "metadata": {
        "id": "wlmJ1JSNiV8E"
      },
      "source": [
        "Adicionando os títulos das linhas"
      ]
    },
    {
      "cell_type": "markdown",
      "metadata": {
        "id": "l7gpg7Y0Six8"
      },
      "source": [
        "### A partir de um dicionário\n",
        "\n",
        "\n",
        "\n",
        "É possível representar uma tabela a partir de um dicionário assumindo que cada uma de suas chaves é o nome de um atributo (coluna) e o valor dessa chave é um conjunto de valores (linhas) relacionadas àquele atributo."
      ]
    },
    {
      "cell_type": "markdown",
      "metadata": {
        "id": "v9X4C43GbEbk"
      },
      "source": [
        "## Inicializando uma Série\n",
        "\n",
        "A Série é a estrutura de dados mais simples do Pandas. Ela pode ser entendida como uma lista. A união de diversas séries forma um DataFrame, com cada série assumindo o papel de uma coluna.\n",
        "\n",
        "![image.png](https://www.datasciencemadesimple.com/wp-content/uploads/2020/05/create-series-in-python-pandas-0.png?ezimgfmt=ng:webp/ngcb1)\n",
        "\n",
        "Imagem retirada de [datasciencemadesimple](https://www.datasciencemadesimple.com/create-series-in-python-pandas/)."
      ]
    },
    {
      "cell_type": "markdown",
      "metadata": {
        "id": "ca5gbLfMkaAf"
      },
      "source": [
        "### A partir de uma lista"
      ]
    },
    {
      "cell_type": "markdown",
      "metadata": {
        "id": "cM0GGMWtdWMy"
      },
      "source": [
        "### A partir de um array\n"
      ]
    },
    {
      "cell_type": "markdown",
      "metadata": {
        "id": "aModxbOSmLS4"
      },
      "source": [
        "# Importando dados de arquivos\n",
        "\n",
        "O uso mais comum da biblioteca Pandas se dá através da leitura de arquivos que servem como base de dados. Um dos formatos mais comuns para armazenar dados em formato de tabela é o de Valores Separados por Vírgula (em inglês, **C**oma **S**eparated **V**alues - CSV). Embora o nome sugira o uso de vírgulas como delimitadores de valores, é possível utilizar outros caractéres (no Brasil é comum o uso de ponto e vírgula - \" **;** \").\n"
      ]
    },
    {
      "cell_type": "markdown",
      "metadata": {
        "id": "Nm5X52s5nrox"
      },
      "source": [
        "## Lendo um arquivo .csv\n",
        "\n",
        "Para este exemplo, utilizaremos um extrato de um banco de dados de filmes do Netflix. Esse arquivo está disponível para download no [Kaggle](https://www.kaggle.com/shivamb/netflix-shows/download)."
      ]
    },
    {
      "cell_type": "markdown",
      "metadata": {
        "id": "wPq996IOsWvQ"
      },
      "source": [
        "## Exibindo um DataFrame"
      ]
    },
    {
      "cell_type": "markdown",
      "metadata": {
        "id": "cE87q_L_qKsT"
      },
      "source": [
        "Para exibir apenas os 5 últimos ou os 5 primeiros títulos, podemos utilizar os métodos head e tail"
      ]
    },
    {
      "cell_type": "markdown",
      "metadata": {
        "id": "1jXxEgmvspJC"
      },
      "source": [
        "# Indexação, Seleção e Atribuição\n",
        "\n",
        "Ao utilizar as ferramentas do Pandas para trabalhar com tabelas em formato de DataFrame, é simples selecionar/filtrar parcelas dessa tabela."
      ]
    },
    {
      "cell_type": "markdown",
      "metadata": {
        "id": "mIYZk2v6s1Ju"
      },
      "source": [
        "## Seleção de colunas pelo nome\n",
        "\n",
        "Para selecionar colunas, pode-se utilizar a notação por colchetes habitual do Python."
      ]
    },
    {
      "cell_type": "markdown",
      "metadata": {
        "id": "NZQ-an-Ftr5B"
      },
      "source": [
        "Outra forma de selecionar colunas em um dataframe é acessando-os como se fossem atributos do DataFrame. Para que isso seja possível, o nome da coluna não pode incluir espaços ou caractéres especiais como acentos ou cedilhas. Sendo assim, podemos acessar a coluna de tipos utilizando a seguinte sintaxe:\n"
      ]
    },
    {
      "cell_type": "markdown",
      "metadata": {
        "id": "cL9R7gGJxZ3h"
      },
      "source": [
        "É possível selecionar linhas individuais dentro da coluna"
      ]
    },
    {
      "cell_type": "markdown",
      "metadata": {
        "id": "h6_St0TjvGhC"
      },
      "source": [
        "## Localização\n",
        "\n",
        "É possível fazer a localização de elementos de um DataFrame pelo seu índice utilizando o iloc ou por labels utilizando o loc.\n",
        "\n",
        "![img](https://miro.medium.com/max/2000/1*CgAWzayEQY8PQuMpRkSGfQ.png)\n",
        "\n",
        "Imagem retirada do site [medium](https://towardsdatascience.com/how-to-use-loc-and-iloc-for-selecting-data-in-pandas-bd09cb4c3d79)."
      ]
    },
    {
      "cell_type": "markdown",
      "metadata": {
        "id": "z9EDLZKlzyM9"
      },
      "source": [
        "### Iloc\n",
        "\n",
        "A indexação por iloc é puramente feita por índices numéricos, tanto nas linhas quanto nas colunas."
      ]
    },
    {
      "cell_type": "markdown",
      "metadata": {
        "id": "Gb66nOXh1eU1"
      },
      "source": [
        "### Loc\n",
        "\n",
        "A indexação por loc é feita por labels, tanto nas linhas quanto nas colunas."
      ]
    },
    {
      "cell_type": "markdown",
      "metadata": {
        "id": "Za4xAde_4XrD"
      },
      "source": [
        "## Seleção por Query\n",
        "\n",
        "É possível selecionar linhas dentro de um DF utilizando o método query."
      ]
    },
    {
      "cell_type": "markdown",
      "metadata": {
        "id": "K2TzC3cf62yz"
      },
      "source": [
        "## Atribuição"
      ]
    },
    {
      "cell_type": "markdown",
      "metadata": {
        "id": "bOMw1w8d7Vzb"
      },
      "source": [
        "# Exercícios"
      ]
    },
    {
      "cell_type": "markdown",
      "metadata": {
        "id": "Rx5T5XUPJ-cH"
      },
      "source": [
        "## 1) Selecione a coluna \"country\" do DataFrame e atribua a uma nova variável"
      ]
    },
    {
      "cell_type": "markdown",
      "metadata": {
        "id": "elPwpVvyKxFj"
      },
      "source": [
        "## 2) Seleciona apenas o primeiro valor da coluna \"country\" do DataFrame e atribua a uma variável\n"
      ]
    },
    {
      "cell_type": "markdown",
      "metadata": {
        "id": "WKhLFjbILBuc"
      },
      "source": [
        "## 3) Selecione a primeira linha do DataFrame e atribua a ua nova variável. Utilize tanto o loc quanto o iloc para realizar essa tarefa."
      ]
    },
    {
      "cell_type": "markdown",
      "metadata": {
        "id": "c-71goxbOFWO"
      },
      "source": [
        "## 4) Selecione os 10 primeiros valores da coluna \"country\" do DF e atribua a uma nova variável"
      ]
    },
    {
      "cell_type": "markdown",
      "metadata": {
        "id": "LnTa6hEWO2vK"
      },
      "source": [
        "## 5) Selecione as linhas 1, 2, 3, 10 e 50 da coluna release_year e atribua a uma nova variavel"
      ]
    },
    {
      "cell_type": "markdown",
      "metadata": {
        "id": "US1s7CEdPwLv"
      },
      "source": [
        "## 6) Crie um novo DF que contenha as colunas type, title, country e release_year apenas das linhas 1, 2 e 10\n"
      ]
    },
    {
      "cell_type": "markdown",
      "metadata": {
        "id": "_HIkCzw4Qeg5"
      },
      "source": [
        "## 7) Crie um novo DF que contenha apenas as colunas title e country das 100 primeiras linhas"
      ]
    },
    {
      "cell_type": "markdown",
      "metadata": {
        "id": "Sg0hEFlcQy9m"
      },
      "source": [
        "## 8) Crie um novo DF que contenha apenas as produções brasileiras"
      ]
    },
    {
      "cell_type": "markdown",
      "metadata": {
        "id": "BM_tiyn_RFjb"
      },
      "source": [
        "## 9) Crie um novo DF que contenha apenas os filmes brasileiros dos anos de 2019 e 2020"
      ]
    }
  ]
}